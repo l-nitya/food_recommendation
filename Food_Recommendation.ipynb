{
  "nbformat": 4,
  "nbformat_minor": 0,
  "metadata": {
    "colab": {
      "provenance": []
    },
    "kernelspec": {
      "name": "python3",
      "display_name": "Python 3"
    },
    "language_info": {
      "name": "python"
    }
  },
  "cells": [
    {
      "cell_type": "code",
      "execution_count": null,
      "metadata": {
        "id": "af-P4Y7jiftU"
      },
      "outputs": [],
      "source": [
        "import pandas as pd\n",
        "import numpy as np\n",
        "import re\n",
        "import string\n",
        "\n",
        "from sklearn.feature_extraction.text import TfidfVectorizer, CountVectorizer\n",
        "from sklearn.metrics.pairwise import cosine_similarity\n",
        "from sklearn.neighbors import NearestNeighbors\n",
        "from scipy.sparse import csr_matrix"
      ]
    },
    {
      "cell_type": "code",
      "source": [
        "# Load datasets\n",
        "df = pd.read_csv('/content/1662574418893344 (1).csv')\n",
        "ratings = pd.read_csv('/content/ratings (1).csv')"
      ],
      "metadata": {
        "id": "fmqdGS6DitU1"
      },
      "execution_count": null,
      "outputs": []
    },
    {
      "cell_type": "code",
      "source": [
        "# Preprocessing functions\n",
        "def preprocess_text(text):\n",
        "    \"\"\"Clean and preprocess text data.\"\"\"\n",
        "    text = text.lower()\n",
        "    text = re.sub(f'[{re.escape(string.punctuation)}]', '', text)\n",
        "    text = re.sub(r'\\s+', ' ', text)\n",
        "    return text.strip()"
      ],
      "metadata": {
        "id": "CruRt6swiwpy"
      },
      "execution_count": null,
      "outputs": []
    },
    {
      "cell_type": "code",
      "source": [
        "df['Describe'] = df['Describe'].apply(preprocess_text)"
      ],
      "metadata": {
        "id": "WQaGx20aizpV"
      },
      "execution_count": null,
      "outputs": []
    },
    {
      "cell_type": "code",
      "source": [
        "# Content-Based Filtering (TF-IDF)\n",
        "def create_tfidf_matrix(df, column='Describe'):\n",
        "    \"\"\"Create TF-IDF matrix for content-based filtering.\"\"\"\n",
        "    tfidf = TfidfVectorizer(stop_words='english')\n",
        "    tfidf_matrix = tfidf.fit_transform(df[column])\n",
        "    return tfidf_matrix"
      ],
      "metadata": {
        "id": "tPAW2rX2i2uc"
      },
      "execution_count": null,
      "outputs": []
    },
    {
      "cell_type": "code",
      "source": [
        "def get_content_based_recommendations(title, df, cosine_sim, only_food):\n",
        "    \"\"\"Get recommendations based on content similarity.\"\"\"\n",
        "    idx = only_food[title]\n",
        "    sim_scores = list(enumerate(cosine_sim[idx]))\n",
        "    sim_scores = sorted(sim_scores, key=lambda x: x[1], reverse=True)\n",
        "    sim_scores = sim_scores[1:6]  # Top 5 recommendations excluding the item itself\n",
        "    food_indices = [i[0] for i in sim_scores]\n",
        "    return df['Name'].iloc[food_indices]"
      ],
      "metadata": {
        "id": "81OXmQ9di6Lb"
      },
      "execution_count": null,
      "outputs": []
    },
    {
      "cell_type": "code",
      "source": [
        "# Advanced Content-Based Filtering\n",
        "def create_advanced_content_matrix(df, features):\n",
        "    \"\"\"Create a matrix for advanced content-based filtering using CountVectorizer.\"\"\"\n",
        "    df['combined_features'] = df[features].apply(lambda x: ' '.join(x), axis=1)\n",
        "    count = CountVectorizer(stop_words='english')\n",
        "    count_matrix = count.fit_transform(df['combined_features'])\n",
        "    return count_matrix"
      ],
      "metadata": {
        "id": "LsRfbtr6i9ud"
      },
      "execution_count": null,
      "outputs": []
    },
    {
      "cell_type": "code",
      "source": [
        "# Collaborative Filtering\n",
        "def prepare_collaborative_data(ratings):\n",
        "    \"\"\"Prepare collaborative filtering data.\"\"\"\n",
        "    ratings = ratings.dropna().iloc[:511]\n",
        "    rating_matrix = ratings.pivot_table(index='Food_ID', columns='User_ID', values='Rating').fillna(0)\n",
        "    csr_rating_matrix = csr_matrix(rating_matrix.values)\n",
        "    return rating_matrix, csr_rating_matrix\n"
      ],
      "metadata": {
        "id": "1aRETwCGjBGE"
      },
      "execution_count": null,
      "outputs": []
    },
    {
      "cell_type": "code",
      "source": [
        "def train_collaborative_filtering_model(csr_rating_matrix):\n",
        "    \"\"\"Train the collaborative filtering model.\"\"\"\n",
        "    recommender = NearestNeighbors(metric='cosine', algorithm='auto')\n",
        "    recommender.fit(csr_rating_matrix)\n",
        "    return recommender\n"
      ],
      "metadata": {
        "id": "rEF3qXH6jEAI"
      },
      "execution_count": null,
      "outputs": []
    },
    {
      "cell_type": "code",
      "source": [
        "def get_collaborative_recommendations(title, df, recommender, rating_matrix):\n",
        "    \"\"\"Get collaborative filtering recommendations.\"\"\"\n",
        "    user = df[df['Name'] == title]\n",
        "\n",
        "    # Use .iloc[0] to correctly access the single value from the Series\n",
        "    user_index = np.where(rating_matrix.index == int(user['Food_ID'].iloc[0]))[0][0]\n",
        "\n",
        "    reshaped = rating_matrix.iloc[user_index].values.reshape(1, -1)\n",
        "    distances, indices = recommender.kneighbors(reshaped, n_neighbors=6)\n",
        "\n",
        "    nearest_neighbors_indices = rating_matrix.iloc[indices[0]].index[1:]\n",
        "    nearest_neighbors = pd.DataFrame({'Food_ID': nearest_neighbors_indices})\n",
        "    result = pd.merge(nearest_neighbors, df, on='Food_ID', how='left')\n",
        "\n",
        "    return result['Name']"
      ],
      "metadata": {
        "id": "A2H0tnWyjGYr"
      },
      "execution_count": null,
      "outputs": []
    },
    {
      "cell_type": "code",
      "source": [
        "# Initialize matrices and models\n",
        "tfidf_matrix = create_tfidf_matrix(df)\n",
        "cosine_sim = cosine_similarity(tfidf_matrix, tfidf_matrix)\n"
      ],
      "metadata": {
        "id": "DGRjmQV-jKcK"
      },
      "execution_count": null,
      "outputs": []
    },
    {
      "cell_type": "code",
      "source": [
        "only_food = pd.Series(df.index, index=df['Name']).drop_duplicates()\n"
      ],
      "metadata": {
        "id": "thT_n5ZujNmY"
      },
      "execution_count": null,
      "outputs": []
    },
    {
      "cell_type": "code",
      "source": [
        "count_matrix = create_advanced_content_matrix(df, features=['C_Type', 'Veg_Non', 'Describe'])\n",
        "cosine_sim2 = cosine_similarity(count_matrix, count_matrix)\n"
      ],
      "metadata": {
        "id": "YPuWur0xjP27"
      },
      "execution_count": null,
      "outputs": []
    },
    {
      "cell_type": "code",
      "source": [
        "rating_matrix, csr_rating_matrix = prepare_collaborative_data(ratings)\n",
        "recommender = train_collaborative_filtering_model(csr_rating_matrix)\n"
      ],
      "metadata": {
        "id": "piLgmmsnjSNq"
      },
      "execution_count": null,
      "outputs": []
    },
    {
      "cell_type": "code",
      "source": [
        "# Test Recommendations\n",
        "print(\"Content-based Recommendations (Simple):\")\n",
        "print(get_content_based_recommendations('christmas cake', df, cosine_sim, only_food))\n"
      ],
      "metadata": {
        "colab": {
          "base_uri": "https://localhost:8080/"
        },
        "id": "4LrpzbIXjUq0",
        "outputId": "8d23219e-194b-4036-eafd-a045fc66282d"
      },
      "execution_count": null,
      "outputs": [
        {
          "output_type": "stream",
          "name": "stdout",
          "text": [
            "Content-based Recommendations (Simple):\n",
            "378      Grilled Chicken with Almond and Garlic Sauce\n",
            "234                                  whole wheat cake\n",
            "393    Fig and Sesame Tart with Cardamom Orange Cream\n",
            "227                         chocolate chip cheesecake\n",
            "250                            lemon poppy seed cake \n",
            "Name: Name, dtype: object\n"
          ]
        }
      ]
    },
    {
      "cell_type": "code",
      "source": [
        "print(\"\\nContent-based Recommendations (Advanced):\")\n",
        "print(get_content_based_recommendations('christmas cake', df, cosine_sim2, only_food))\n"
      ],
      "metadata": {
        "colab": {
          "base_uri": "https://localhost:8080/"
        },
        "id": "sxOZiuekjYNr",
        "outputId": "d9a91384-e8cd-4c10-b3f5-ffc1ab5d2283"
      },
      "execution_count": null,
      "outputs": [
        {
          "output_type": "stream",
          "name": "stdout",
          "text": [
            "\n",
            "Content-based Recommendations (Advanced):\n",
            "250    lemon poppy seed cake \n",
            "228       chocolate lava cake\n",
            "198     lemon poppy seed cake\n",
            "235                 plum cake\n",
            "233     cinnamon star cookies\n",
            "Name: Name, dtype: object\n"
          ]
        }
      ]
    },
    {
      "cell_type": "code",
      "source": [
        "print(\"\\nCollaborative Filtering Recommendations:\")\n",
        "print(get_collaborative_recommendations('christmas cake', df, recommender, rating_matrix))"
      ],
      "metadata": {
        "colab": {
          "base_uri": "https://localhost:8080/"
        },
        "id": "qrbmcUN0ja0i",
        "outputId": "cdb7cc75-2e54-4584-cfbd-014851a68c69"
      },
      "execution_count": null,
      "outputs": [
        {
          "output_type": "stream",
          "name": "stdout",
          "text": [
            "\n",
            "Collaborative Filtering Recommendations:\n",
            "0                                  french pork chop\n",
            "1                                  egg in a blanket\n",
            "2                                    chicken paella\n",
            "3    couscous with ratatouille - tangy tomato sauce\n",
            "4                                 prawn potato soup\n",
            "Name: Name, dtype: object\n"
          ]
        }
      ]
    },
    {
      "cell_type": "code",
      "source": [
        "import pickle\n",
        "\n",
        "with open('tfidf_matrix.pkl', 'wb') as file:\n",
        "    pickle.dump(tfidf_matrix, file)\n",
        "\n",
        "with open('cosine_sim.pkl', 'wb') as file:\n",
        "    pickle.dump(cosine_sim, file)"
      ],
      "metadata": {
        "id": "VGY8BR3gqMS7"
      },
      "execution_count": null,
      "outputs": []
    },
    {
      "cell_type": "code",
      "source": [
        "with open('count_matrix.pkl', 'wb') as file:\n",
        "    pickle.dump(count_matrix, file)\n",
        "\n",
        "with open('cosine_sim2.pkl', 'wb') as file:\n",
        "    pickle.dump(cosine_sim2, file)"
      ],
      "metadata": {
        "id": "rq4NlzJrqQxC"
      },
      "execution_count": null,
      "outputs": []
    },
    {
      "cell_type": "code",
      "source": [
        "# Save the collaborative filtering model\n",
        "with open('collaborative_model.pkl', 'wb') as file:\n",
        "    pickle.dump(recommender, file)"
      ],
      "metadata": {
        "id": "alsfwdqSCraB"
      },
      "execution_count": null,
      "outputs": []
    },
    {
      "cell_type": "code",
      "source": [],
      "metadata": {
        "id": "h-s_dFj3D4Md"
      },
      "execution_count": null,
      "outputs": []
    }
  ]
}